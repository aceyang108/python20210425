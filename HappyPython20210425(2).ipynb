{
  "nbformat": 4,
  "nbformat_minor": 0,
  "metadata": {
    "colab": {
      "name": "HappyPython20210425(2).ipynb",
      "provenance": [],
      "collapsed_sections": [],
      "authorship_tag": "ABX9TyO9PA5D9f9cdUvHVo8nQ+S5",
      "include_colab_link": true
    },
    "kernelspec": {
      "name": "python3",
      "display_name": "Python 3"
    },
    "language_info": {
      "name": "python"
    }
  },
  "cells": [
    {
      "cell_type": "markdown",
      "metadata": {
        "id": "view-in-github",
        "colab_type": "text"
      },
      "source": [
        "<a href=\"https://colab.research.google.com/github/aceyang108/python20210425/blob/main/HappyPython20210425(2).ipynb\" target=\"_parent\"><img src=\"https://colab.research.google.com/assets/colab-badge.svg\" alt=\"Open In Colab\"/></a>"
      ]
    },
    {
      "cell_type": "markdown",
      "metadata": {
        "id": "AV0FUriN-JOy"
      },
      "source": [
        "學習大綱"
      ]
    },
    {
      "cell_type": "code",
      "metadata": {
        "id": "C7NsG0dV-Pcq"
      },
      "source": [
        "標準輸入(stdin)與標準輸出(stdout)\n",
        "   python輸入:input()\n",
        "   python輸出: print()\n",
        "   python格式化輸出技術\n",
        "進階學習主題:\n",
        "[10]讀取檔案與輸出到檔案\n",
        "[20]資料庫讀取與輸出"
      ],
      "execution_count": null,
      "outputs": []
    },
    {
      "cell_type": "markdown",
      "metadata": {
        "id": "IUAIN9W8-Sey"
      },
      "source": [
        "1_基礎輸入與輸出(Basic Input and Output)"
      ]
    },
    {
      "cell_type": "code",
      "metadata": {
        "id": "XjjIlxyD-Uca"
      },
      "source": [
        "使用input時，會從標準輸入(stdin)中讀取輸入資料\n",
        "這些資料是string字串型態{重要}\n",
        "\n",
        "stdin==Standard Input"
      ],
      "execution_count": null,
      "outputs": []
    },
    {
      "cell_type": "markdown",
      "metadata": {
        "id": "UMLrVC18-XIS"
      },
      "source": [
        "1_1_範例"
      ]
    },
    {
      "cell_type": "code",
      "metadata": {
        "id": "pWS1hxkS-Zmi"
      },
      "source": [
        "# -*- coding: utf-8 -*-\n",
        "x = input('Enter your name:')\n",
        "print('Hello, ' + x)\n",
        "\n",
        "a = input(\"請輸入：\")\n",
        "a\n",
        "\n",
        "###  使用Python內建的type()函數顯示資料型態\n",
        "\n",
        "type(a)"
      ],
      "execution_count": null,
      "outputs": []
    },
    {
      "cell_type": "markdown",
      "metadata": {
        "id": "wkEmNwpV-ci6"
      },
      "source": [
        "1_2_程式錯誤與更正"
      ]
    },
    {
      "cell_type": "code",
      "metadata": {
        "id": "cAIIPynH-ibc"
      },
      "source": [
        "小明明正在學習python程式\n",
        "老師出了一題\n",
        "要輸入一個整數分數\n",
        "然後加1後\n",
        "輸出最後答案\n",
        "底下是小明明的python程式\n",
        "請指出底下的錯誤並更正"
      ],
      "execution_count": null,
      "outputs": []
    },
    {
      "cell_type": "markdown",
      "metadata": {
        "id": "MqTPWlFv_Ge5"
      },
      "source": [
        "小明明的python程式"
      ]
    },
    {
      "cell_type": "code",
      "metadata": {
        "id": "p8CW2T5gFx5z"
      },
      "source": [
        "a = input(\"請輸入：\")\n",
        "a\n",
        "b=a+1\n",
        "b\n",
        "TypeError                                 Traceback (most recent call last)\n",
        "<ipython-input-15-1bf84b7b9877> in <module>()\n",
        "----> 1 b=a+1\n",
        "      2 b\n",
        "TypeError: must be str, not int\n",
        "TypeError :資料型態(data type)錯誤"
      ],
      "execution_count": null,
      "outputs": []
    },
    {
      "cell_type": "markdown",
      "metadata": {
        "id": "IZaFb-w8F7HR"
      },
      "source": [
        "更正的 小明明python程式"
      ]
    },
    {
      "cell_type": "code",
      "metadata": {
        "id": "vAq9ZfgpF_Jx"
      },
      "source": [
        "如何讀取使用者輸入的整數===>使用eval()函數 或int()\n",
        "a = eval(input(\"請輸入：\"))\n",
        "a\n",
        "\n",
        "b=a+1\n",
        "b"
      ],
      "execution_count": null,
      "outputs": []
    },
    {
      "cell_type": "markdown",
      "metadata": {
        "id": "shjwjxs8-pHJ"
      },
      "source": [
        "1_3_一次輸入多（兩）個資料"
      ]
    },
    {
      "cell_type": "code",
      "metadata": {
        "id": "IDbJvbyp-ryR"
      },
      "source": [
        "a,b = eval(input(\"請輸入兩個數位：\"))\n",
        "a,b"
      ],
      "execution_count": null,
      "outputs": []
    },
    {
      "cell_type": "markdown",
      "metadata": {
        "id": "3EI9FYi--vFq"
      },
      "source": [
        "1_4_高階技巧"
      ]
    },
    {
      "cell_type": "code",
      "metadata": {
        "id": "l6zNW79C-xQC"
      },
      "source": [
        "x, y, z = [int(x) for x in input(\"Enter three value: \").split()] \n",
        "print(\"First Number is: \", x) \n",
        "print(\"Second Number is: \", y) \n",
        "print(\"Third Number is: \", z) \n",
        "print()\n",
        "\n",
        "x, y, z = [int(x) for x in input(\"Enter three value: \").split(\",\")] \n",
        "print(\"First Number is: \", x) \n",
        "print(\"Second Number is: \", y) \n",
        "print(\"Third Number is: \", z) \n",
        "print()\n",
        "\n",
        "a, b = input(\"Enter a two value: \").split() \n",
        "print(\"First number is {} and second number is {}\".format(a, b)) \n",
        "print()"
      ],
      "execution_count": null,
      "outputs": []
    },
    {
      "cell_type": "markdown",
      "metadata": {
        "id": "uc0zBXb1-zq0"
      },
      "source": [
        "2_格式化輸出"
      ]
    },
    {
      "cell_type": "code",
      "metadata": {
        "id": "fuKp_C4Y-1SL"
      },
      "source": [
        "1.使用String modulo operator(%)\n",
        "2.使用format 方法"
      ],
      "execution_count": null,
      "outputs": []
    },
    {
      "cell_type": "markdown",
      "metadata": {
        "id": "KgkjQrmc-26i"
      },
      "source": [
        "2_1_使用String modulo operator(%)"
      ]
    },
    {
      "cell_type": "code",
      "metadata": {
        "id": "IKJkFWQ2-5EL"
      },
      "source": [
        "# 列印整數(integer)與 浮點數(float) 的值\n",
        "print(\"Happy : %2d, Python : %5.2f\" % (1, 05.333))\n",
        " \n",
        "# 列印整數值 ==> %3d 和 %2d有 何不同\n",
        "print(\"Total students : %3d, Boys : %2d\" % (240, 120))\n",
        " \n",
        "# print octal value\n",
        "print(\"%7.3o\" % (25))\n",
        " \n",
        "# print exponential value\n",
        "print(\"%10.3E\" % (356.08977))"
      ],
      "execution_count": null,
      "outputs": []
    },
    {
      "cell_type": "markdown",
      "metadata": {
        "id": "_diHw5SG-8FL"
      },
      "source": [
        "2_2.使用format 方法"
      ]
    },
    {
      "cell_type": "code",
      "metadata": {
        "id": "a-TSFn1A-_uE"
      },
      "source": [
        "# using format() method\n",
        "print('I love {} for \"{}!\"'.format('Python', 'CTFer'))\n",
        " \n",
        "# 使用位置表達 ==>看看底下有何不同\n",
        "print('{0} and {1}'.format('Python', 'CTFer'))\n",
        " \n",
        "print('{1} and {0}'.format('Python', 'CTFer'))\n",
        "更多格式化輸出方法請參閱底下資料\n",
        "Python | Output Formatting\n",
        "https://www.geeksforgeeks.org/python-output-formatting/"
      ],
      "execution_count": null,
      "outputs": []
    }
  ]
}