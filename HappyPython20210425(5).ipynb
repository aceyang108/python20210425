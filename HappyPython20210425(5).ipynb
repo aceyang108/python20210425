{
  "nbformat": 4,
  "nbformat_minor": 0,
  "metadata": {
    "colab": {
      "name": "HappyPython20210425(5).ipynb",
      "provenance": [],
      "collapsed_sections": [],
      "authorship_tag": "ABX9TyP9/vqmRQK15MVr0NS3Ba1q",
      "include_colab_link": true
    },
    "kernelspec": {
      "name": "python3",
      "display_name": "Python 3"
    },
    "language_info": {
      "name": "python"
    }
  },
  "cells": [
    {
      "cell_type": "markdown",
      "metadata": {
        "id": "view-in-github",
        "colab_type": "text"
      },
      "source": [
        "<a href=\"https://colab.research.google.com/github/aceyang108/python20210425/blob/main/HappyPython20210425(5).ipynb\" target=\"_parent\"><img src=\"https://colab.research.google.com/assets/colab-badge.svg\" alt=\"Open In Colab\"/></a>"
      ]
    },
    {
      "cell_type": "markdown",
      "metadata": {
        "id": "3WBm-jcewCuC"
      },
      "source": [
        "## [1]"
      ]
    },
    {
      "cell_type": "code",
      "metadata": {
        "colab": {
          "base_uri": "https://localhost:8080/"
        },
        "id": "D3RWauxmv5Vm",
        "outputId": "470d6551-199c-4aa9-c18b-189e2586b63c"
      },
      "source": [
        "def sum(i1, i2):\n",
        "    result = 0\n",
        "    for i in range(i1, i2):\n",
        "        result += i\n",
        "    return result\n",
        "\n",
        "def main():\n",
        "    print(\"Sum from 1 to 10 is\", sum(1, 11)) \n",
        "    print(\"Sum from 20 to 37 is\", sum(20, 38))\n",
        "    print(\"Sum from 35 to 49 is\", sum(35, 50))\n",
        "main()"
      ],
      "execution_count": 3,
      "outputs": [
        {
          "output_type": "stream",
          "text": [
            "Sum from 1 to 10 is 55\n",
            "Sum from 20 to 37 is 513\n",
            "Sum from 35 to 49 is 630\n"
          ],
          "name": "stdout"
        }
      ]
    },
    {
      "cell_type": "markdown",
      "metadata": {
        "id": "nqoQwm8swX9R"
      },
      "source": [
        "【Python 練習實例47】"
      ]
    },
    {
      "cell_type": "code",
      "metadata": {
        "id": "MBR_RqQdwaqI"
      },
      "source": [
        "def swap(a,b):\n",
        "    a,b = b,a\n",
        "    return (a,b)\n",
        " \n",
        "if __name__ == '__main__':\n",
        "    x = 10\n",
        "    y = 20\n",
        "    print('x = %d,y = %d' % (x,y))\n",
        "    x,y = swap(x,y)\n",
        "    print('x = %d,y = %d' % (x,y))"
      ],
      "execution_count": null,
      "outputs": []
    },
    {
      "cell_type": "markdown",
      "metadata": {
        "id": "8dIQ8wfCweJW"
      },
      "source": [
        "## [2]"
      ]
    },
    {
      "cell_type": "code",
      "metadata": {
        "colab": {
          "base_uri": "https://localhost:8080/"
        },
        "id": "p8ZSVQjawjXK",
        "outputId": "85c57ad5-0996-409e-d554-56435e8247f8"
      },
      "source": [
        "def sort(number1, number2):\n",
        "    if number1 < number2:\n",
        "        return number1, number2\n",
        "    else:\n",
        "        return number2, number1\n",
        "\n",
        "num1, num2 = sort(31, 25)\n",
        "\n",
        "print(\"num1 is\", num1)\n",
        "print(\"num2 is\", num2)"
      ],
      "execution_count": 4,
      "outputs": [
        {
          "output_type": "stream",
          "text": [
            "num1 is 25\n",
            "num2 is 31\n"
          ],
          "name": "stdout"
        }
      ]
    },
    {
      "cell_type": "markdown",
      "metadata": {
        "id": "tPtBOrqQwsJO"
      },
      "source": [
        "## [作業1]"
      ]
    },
    {
      "cell_type": "markdown",
      "metadata": {
        "id": "tKSrXmVVw2bH"
      },
      "source": [
        "## [作業2]"
      ]
    },
    {
      "cell_type": "markdown",
      "metadata": {
        "id": "IQ9Zr31Jw5bM"
      },
      "source": [
        "## [思考]"
      ]
    },
    {
      "cell_type": "markdown",
      "metadata": {
        "id": "v17A7JRAxSwW"
      },
      "source": [
        "## [小小測驗]"
      ]
    },
    {
      "cell_type": "code",
      "metadata": {
        "colab": {
          "base_uri": "https://localhost:8080/"
        },
        "id": "j6oUZ0m6w8FC",
        "outputId": "a4b58ce8-f302-4238-f833-8f013b148f62"
      },
      "source": [
        "def hello_3(greeting='Hello', name='world'): \n",
        "    print('{}, {}!'.format(greeting, name)) \n",
        "\n",
        "    \n",
        "hello_3() \n",
        "hello_3('Greetings') \n",
        "hello_3('Greetings', 'universe')\n",
        "hello_3(name='GGGGGGoood')"
      ],
      "execution_count": 5,
      "outputs": [
        {
          "output_type": "stream",
          "text": [
            "Hello, world!\n",
            "Greetings, world!\n",
            "Greetings, universe!\n",
            "Hello, GGGGGGoood!\n"
          ],
          "name": "stdout"
        }
      ]
    },
    {
      "cell_type": "markdown",
      "metadata": {
        "id": "rkQe4gp-xUE4"
      },
      "source": [
        "## [綜合練習]"
      ]
    },
    {
      "cell_type": "code",
      "metadata": {
        "colab": {
          "base_uri": "https://localhost:8080/"
        },
        "id": "ahCwGi5kxuR5",
        "outputId": "ade8c475-0f1f-41b9-f4db-1b93fd57ae82"
      },
      "source": [
        "def print_params_4(x, y, z=3, *pospar, **keypar): \n",
        "    print(x, y, z) \n",
        "    print(pospar) \n",
        "    print(keypar) \n",
        "\n",
        "print_params_4(1, 2, 4, 5, 6, 7, foo=1, bar=2)\n",
        "\n",
        "print_params_4(1, 2)\n"
      ],
      "execution_count": 7,
      "outputs": [
        {
          "output_type": "stream",
          "text": [
            "1 2 4\n",
            "(5, 6, 7)\n",
            "{'foo': 1, 'bar': 2}\n",
            "1 2 3\n",
            "()\n",
            "{}\n"
          ],
          "name": "stdout"
        }
      ]
    },
    {
      "cell_type": "markdown",
      "metadata": {
        "id": "GQ68vC2Ux6mt"
      },
      "source": [
        "## [3]"
      ]
    },
    {
      "cell_type": "markdown",
      "metadata": {
        "id": "q1g6dtv-yAWO"
      },
      "source": [
        "## 範例"
      ]
    },
    {
      "cell_type": "code",
      "metadata": {
        "colab": {
          "base_uri": "https://localhost:8080/"
        },
        "id": "4u00vazpx91m",
        "outputId": "83b8f2f5-8795-4bd1-8252-d4cc20245e69"
      },
      "source": [
        "x = 111\n",
        "\n",
        "def f1():\n",
        "    x = 222\n",
        "    print(x) \n",
        "\n",
        "f1()\n",
        "print(x)\n",
        "\n",
        "x = 1\n",
        "\n",
        "def increase():\n",
        "    global x\n",
        "    x =  x + 1\n",
        "    print(x) \n",
        "\n",
        "increase()\n",
        "print(x)\n",
        "increase()\n",
        "increase()\n",
        "print(x)"
      ],
      "execution_count": 8,
      "outputs": [
        {
          "output_type": "stream",
          "text": [
            "222\n",
            "111\n",
            "2\n",
            "2\n",
            "3\n",
            "4\n",
            "4\n"
          ],
          "name": "stdout"
        }
      ]
    },
    {
      "cell_type": "markdown",
      "metadata": {
        "id": "MzCG_1dLyEPO"
      },
      "source": [
        "## [4]"
      ]
    },
    {
      "cell_type": "markdown",
      "metadata": {
        "id": "MVgJTiB1yJdn"
      },
      "source": [
        "## [4_1]"
      ]
    },
    {
      "cell_type": "code",
      "metadata": {
        "colab": {
          "base_uri": "https://localhost:8080/"
        },
        "id": "ylLihNQ-yOIf",
        "outputId": "4c83c9bc-60e4-4d58-cbc8-7772a4893949"
      },
      "source": [
        "f1 = lambda x, y, z: x+2*y+3*z\n",
        "print(f1(2,3,1))"
      ],
      "execution_count": 9,
      "outputs": [
        {
          "output_type": "stream",
          "text": [
            "11\n"
          ],
          "name": "stdout"
        }
      ]
    },
    {
      "cell_type": "code",
      "metadata": {
        "colab": {
          "base_uri": "https://localhost:8080/"
        },
        "id": "dYvQZzoHyr-q",
        "outputId": "2e8559c9-432e-4940-db47-f4c104137118"
      },
      "source": [
        "def myfunc(m):\n",
        "    return m*m\n",
        "\n",
        "my_list = [1, 3, 5, 7, 9]\n",
        "\n",
        "## 使用python的map()\n",
        "\n",
        "map(lambda x:myfunc(x), my_list)"
      ],
      "execution_count": 10,
      "outputs": [
        {
          "output_type": "execute_result",
          "data": {
            "text/plain": [
              "<map at 0x7f16a8720190>"
            ]
          },
          "metadata": {
            "tags": []
          },
          "execution_count": 10
        }
      ]
    },
    {
      "cell_type": "markdown",
      "metadata": {
        "id": "4U95nnLIydRX"
      },
      "source": [
        "## [4_2]"
      ]
    },
    {
      "cell_type": "markdown",
      "metadata": {
        "id": "kq3ZZAd3y6lh"
      },
      "source": [
        "## [程式開發作業]費氏數列"
      ]
    },
    {
      "cell_type": "markdown",
      "metadata": {
        "id": "16ztfgc5y9mx"
      },
      "source": [
        "## [程式開發作業]1+2+3+....+n"
      ]
    },
    {
      "cell_type": "markdown",
      "metadata": {
        "id": "eItWmW6uy9hA"
      },
      "source": [
        "## [程式開發作業]n!"
      ]
    },
    {
      "cell_type": "markdown",
      "metadata": {
        "id": "7BzS0VB2y84u"
      },
      "source": [
        "## [程式開發作業]x的n次方"
      ]
    },
    {
      "cell_type": "markdown",
      "metadata": {
        "id": "TdLa9FEQy8sO"
      },
      "source": [
        "## [程式開發作業]二項係數"
      ]
    },
    {
      "cell_type": "markdown",
      "metadata": {
        "id": "wIBXNPeay8Ru"
      },
      "source": [
        "## [程式開發作業][Ackermann函式]"
      ]
    },
    {
      "cell_type": "markdown",
      "metadata": {
        "id": "Fyxm7UtVzSkB"
      },
      "source": [
        "## [程式開發作業]河內塔\n",
        "\n"
      ]
    },
    {
      "cell_type": "markdown",
      "metadata": {
        "id": "W7jJpZshzTAX"
      },
      "source": [
        "## [程式開發作業]八皇后問題\n"
      ]
    },
    {
      "cell_type": "markdown",
      "metadata": {
        "id": "e8MTK3GNzTva"
      },
      "source": [
        "## [程式開發作業]binary search二元搜尋法"
      ]
    },
    {
      "cell_type": "markdown",
      "metadata": {
        "id": "BBbT2zTGz6JX"
      },
      "source": [
        "## 範例:費氏數列"
      ]
    },
    {
      "cell_type": "markdown",
      "metadata": {
        "id": "Tycdcf1F0BAY"
      },
      "source": [
        "## sol一:使用 recursive"
      ]
    },
    {
      "cell_type": "code",
      "metadata": {
        "colab": {
          "base_uri": "https://localhost:8080/"
        },
        "id": "5PRySBAPz7UU",
        "outputId": "774383cf-1509-4bbe-961e-b4845648cf50"
      },
      "source": [
        "def fib(n):\n",
        "    if n==1 or n==2:\n",
        "        return 1\n",
        "    return fib(n-1)+fib(n-2)\n",
        "\n",
        "print(fib(10))"
      ],
      "execution_count": 11,
      "outputs": [
        {
          "output_type": "stream",
          "text": [
            "55\n"
          ],
          "name": "stdout"
        }
      ]
    },
    {
      "cell_type": "markdown",
      "metadata": {
        "id": "_wbPe5sA0AKe"
      },
      "source": [
        "## sol二:使用 iterative"
      ]
    },
    {
      "cell_type": "code",
      "metadata": {
        "colab": {
          "base_uri": "https://localhost:8080/"
        },
        "id": "WJTwVZp_0Anm",
        "outputId": "86e7156e-e0bf-44e9-f1f7-16dc6bb1bb2e"
      },
      "source": [
        "def fib(n):\n",
        "    a,b = 1,1\n",
        "    for i in range(n-1):\n",
        "        a,b = b,a+b\n",
        "    return a\n",
        " \n",
        "\n",
        "print(fib(10))"
      ],
      "execution_count": 12,
      "outputs": [
        {
          "output_type": "stream",
          "text": [
            "55\n"
          ],
          "name": "stdout"
        }
      ]
    },
    {
      "cell_type": "markdown",
      "metadata": {
        "id": "JQc-o7AW0Qmn"
      },
      "source": [
        "## 【Python 練習實例28】"
      ]
    },
    {
      "cell_type": "markdown",
      "metadata": {
        "id": "ni5qUXxT0U6R"
      },
      "source": [
        "## 問題"
      ]
    },
    {
      "cell_type": "code",
      "metadata": {
        "colab": {
          "base_uri": "https://localhost:8080/"
        },
        "id": "Smh7xmY00Ve_",
        "outputId": "96713b02-4db9-44b4-bd03-cc0668ecf342"
      },
      "source": [
        "def fib(x):\t\n",
        "\tglobal numFibCalls\n",
        "\tnumFibCalls += 1\n",
        "\t\n",
        "\tif x == 0 or x == 1:\n",
        "           return 1\n",
        "\telse:\n",
        "          return fib(x-1) + fib(x-2)\n",
        "\n",
        "def testFib(n):\n",
        "\tfor i in range(n+1):\n",
        "          global numFibCalls\n",
        "          numFibCalls = 0\n",
        "          print('fib of', i, '=', fib(i))\n",
        "          print('fib called', numFibCalls, 'times.')\n",
        "\n",
        "testFib(4)"
      ],
      "execution_count": 13,
      "outputs": [
        {
          "output_type": "stream",
          "text": [
            "fib of 0 = 1\n",
            "fib called 1 times.\n",
            "fib of 1 = 1\n",
            "fib called 1 times.\n",
            "fib of 2 = 2\n",
            "fib called 3 times.\n",
            "fib of 3 = 3\n",
            "fib called 5 times.\n",
            "fib of 4 = 5\n",
            "fib called 9 times.\n"
          ],
          "name": "stdout"
        }
      ]
    },
    {
      "cell_type": "markdown",
      "metadata": {
        "id": "7xlzzv-80ehY"
      },
      "source": [
        "## [5]"
      ]
    },
    {
      "cell_type": "markdown",
      "metadata": {
        "id": "2gjvLvaj0h4z"
      },
      "source": [
        "## 作業1"
      ]
    },
    {
      "cell_type": "markdown",
      "metadata": {
        "id": "XCMbNiTa0hzH"
      },
      "source": [
        "## 作業2"
      ]
    },
    {
      "cell_type": "markdown",
      "metadata": {
        "id": "9R5bc4K_0hK3"
      },
      "source": [
        "## 作業3"
      ]
    }
  ]
}