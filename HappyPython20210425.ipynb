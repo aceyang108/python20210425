{
  "nbformat": 4,
  "nbformat_minor": 0,
  "metadata": {
    "colab": {
      "name": "Untitled0.ipynb",
      "provenance": [],
      "authorship_tag": "ABX9TyM1QoGqcVyZ75w88L/ECCjQ",
      "include_colab_link": true
    },
    "kernelspec": {
      "name": "python3",
      "display_name": "Python 3"
    },
    "language_info": {
      "name": "python"
    }
  },
  "cells": [
    {
      "cell_type": "markdown",
      "metadata": {
        "id": "view-in-github",
        "colab_type": "text"
      },
      "source": [
        "<a href=\"https://colab.research.google.com/github/aceyang108/python20210425/blob/main/HappyPython20210425.ipynb\" target=\"_parent\"><img src=\"https://colab.research.google.com/assets/colab-badge.svg\" alt=\"Open In Colab\"/></a>"
      ]
    },
    {
      "cell_type": "markdown",
      "metadata": {
        "id": "414C6wtcwvPV"
      },
      "source": [
        "Happy Python day 20210425"
      ]
    },
    {
      "cell_type": "code",
      "metadata": {
        "id": "QbNuqRbdwegq"
      },
      "source": [
        "# 先不用解釋程式 後面會教\n",
        "i = 1\n",
        "\n",
        "while i < 6:\n",
        "  print(i)\n",
        "  i += 1\n"
      ],
      "execution_count": null,
      "outputs": []
    }
  ]
}